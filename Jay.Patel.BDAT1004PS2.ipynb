{
 "cells": [
  {
   "cell_type": "markdown",
   "id": "379fce7d-9466-4df0-bacf-65a0b5bf76c7",
   "metadata": {},
   "source": [
    "<b>Problem Set 2 <b><br>\n",
    "This problem set is based on lectures 4,5 and 6. For a complete list of topics please \n",
    "consult page 2 of the course syllabus. Please consult the “Instructions for Problem \n",
    "Set Submissions” document under course information before submitting your \n",
    "assignment."
   ]
  },
  {
   "cell_type": "markdown",
   "id": "72914ac9-3c2a-4b6b-9166-1cc2213fb5a8",
   "metadata": {},
   "source": [
    "<b>Question 1<b>"
   ]
  },
  {
   "cell_type": "raw",
   "id": "1db5c501-bf54-4c78-b07b-8c720d32dd50",
   "metadata": {},
   "source": [
    "Consider the following Python module:\n",
    "a = 0\n",
    "def b():\n",
    " global a\n",
    " a = c(a)\n",
    "def c(a):\n",
    " return a + 2"
   ]
  },
  {
   "cell_type": "code",
   "execution_count": 3,
   "id": "750aefa0-80ac-42b6-8db1-9cd47612870d",
   "metadata": {},
   "outputs": [],
   "source": [
    "a = 0\n",
    "def b():\n",
    " global a\n",
    " a = c(a)\n",
    "def c(a):\n",
    " return a + 2"
   ]
  },
  {
   "cell_type": "code",
   "execution_count": 4,
   "id": "89e4b960-606c-4b4d-bb80-d208cb5a7cf7",
   "metadata": {},
   "outputs": [],
   "source": [
    "b()"
   ]
  },
  {
   "cell_type": "code",
   "execution_count": 5,
   "id": "0460328f-f4db-4e3f-b666-03a7732b615c",
   "metadata": {},
   "outputs": [],
   "source": [
    "b()"
   ]
  },
  {
   "cell_type": "code",
   "execution_count": 6,
   "id": "3161d749-6d9a-4aac-9058-14f73529799a",
   "metadata": {},
   "outputs": [],
   "source": [
    "b()"
   ]
  },
  {
   "cell_type": "code",
   "execution_count": 7,
   "id": "7b7d1c74-bf4d-4392-a893-c42f4d99a6e8",
   "metadata": {},
   "outputs": [
    {
     "data": {
      "text/plain": [
       "6"
      ]
     },
     "execution_count": 7,
     "metadata": {},
     "output_type": "execute_result"
    }
   ],
   "source": [
    "a"
   ]
  },
  {
   "cell_type": "raw",
   "id": "85a7e373-e69e-4bef-ac89-bce52e769c03",
   "metadata": {},
   "source": [
    "Answer :  \n",
    "Initially value of a = 0\n",
    "First execution of the function b :\n",
    "In the function b() a is declared as global varible that's why variable a can be used anywhere in the program\n",
    "now , program is going to execute function c(a) , which is going to return 0 + 2 => 2\n",
    "and that 2 is going to store in the a\n",
    "\n",
    "In the second execution of function b() : a = 2 :\n",
    "now , function b again going to declare varible a as a global variable\n",
    "and function c(a) going to return 2+2 => 4 which is going to store in the varible a\n",
    "\n",
    "In the second execution of function b() : a = 4 :\n",
    "now , function b again going to declare varible a as a global variable\n",
    "and function c(a) going to return 4+2 => 6 which is going to store in the varible a\n",
    "\n",
    "and in the end final value of a  is going to become 6"
   ]
  },
  {
   "cell_type": "markdown",
   "id": "d437b625-77c9-44fe-975e-e492c354e3ee",
   "metadata": {},
   "source": [
    "<b>Question 2<b>"
   ]
  },
  {
   "cell_type": "raw",
   "id": "518141d0-0d06-4ae0-bbad-45af15cc696f",
   "metadata": {},
   "source": [
    "Function fileLength(), given to you, takes the name of a file as input and returns \n",
    "the length of the file:\n",
    "\n",
    ">>> fileLength('midterm.py')\n",
    "284\n",
    ">>> fileLength('idterm.py')\n",
    "\n",
    "    Traceback (most recent call last):\n",
    "    File \"<pyshell#34>\", line 1, in <module>\n",
    "     fileLength('idterm.py')\n",
    "    File \"/Users/me/midterm.py\", line 3, in fileLength\n",
    "     infile = open(filename)\n",
    "    FileNotFoundError: [Errno 2] No such file or directory: \n",
    "    'idterm.py'\n",
    "\n",
    "As shown above, if the file cannot be found by the interpreter or if it cannot be read \n",
    "as a text file, an exception will be raised. Modify function fileLength() so that a \n",
    "friendly message is printed instead:\n",
    "\n",
    "    >>> fileLength('midterm.py')\n",
    "    358\n",
    "    >>> fileLength('idterm.py')\n",
    "    File idterm.py not found.<b>"
   ]
  },
  {
   "cell_type": "code",
   "execution_count": 10,
   "id": "d9be7e6a-325e-404f-9eea-3f48129b61e3",
   "metadata": {},
   "outputs": [
    {
     "name": "stdout",
     "output_type": "stream",
     "text": [
      "2016\n"
     ]
    }
   ],
   "source": [
    "def fileLength(file_name):\n",
    "    file = open(file_name)\n",
    "    contents = file.read()\n",
    "    file.close()\n",
    "    print(len(contents))\n",
    "\n",
    "fileLength(\"midterm.ipynb\")"
   ]
  },
  {
   "cell_type": "code",
   "execution_count": 12,
   "id": "ecc32842-2f56-452f-8971-87b510789682",
   "metadata": {},
   "outputs": [
    {
     "name": "stdout",
     "output_type": "stream",
     "text": [
      "[Errno 2] No such file or directory: 'idterm.ipynb'\n"
     ]
    }
   ],
   "source": [
    "try:\n",
    "    fileLength(\"idterm.ipynb\")\n",
    "except Exception as e:\n",
    "    print(e)"
   ]
  },
  {
   "cell_type": "code",
   "execution_count": 13,
   "id": "e2053eec-daa9-4bdb-abfd-da16b08e7d17",
   "metadata": {},
   "outputs": [
    {
     "name": "stdout",
     "output_type": "stream",
     "text": [
      "File id_Term_Question3.ipynb not found.\n"
     ]
    }
   ],
   "source": [
    "file_name = \"id_Term_Question3.ipynb\"\n",
    "try:\n",
    "    fileLength(file_name)\n",
    "except FileNotFoundError:\n",
    "    print(f\"File {file_name} not found.\")"
   ]
  },
  {
   "cell_type": "markdown",
   "id": "95b06229-1ae9-45db-859f-71a88afeeca3",
   "metadata": {},
   "source": [
    "<b>Question 3<b>"
   ]
  },
  {
   "cell_type": "raw",
   "id": "ee14e595-92c9-4599-bccb-b7d7af5b0c6e",
   "metadata": {},
   "source": [
    "Write a class named Marsupial that can be used as shown below:\n",
    ">>> m = Marsupial()\n",
    ">>> m.put_in_pouch('doll')\n",
    ">>> m.put_in_pouch('firetruck')\n",
    ">>> m.put_in_pouch('kitten')\n",
    ">>> m.pouch_contents()\n",
    "['doll', 'firetruck', 'kitten']\n",
    "\n",
    "\n",
    "\n",
    "Now write a class named Kangaroo as a subclass of Marsupial that inherits all the \n",
    "attributes of Marsupial and also:\n",
    "a. extends the Marsupial __init__ constructor to take, as input, the \n",
    "coordinates x and y of the Kangaroo object,\n",
    "b. supports method jump that takes number values dx and dy as input and \n",
    "moves the kangaroo by dx units along the x-axis and by dy units along the y\u0002axis, and\n",
    "c. overloads the __str__ operator so it behaves as shown below.\n"
   ]
  },
  {
   "cell_type": "code",
   "execution_count": 14,
   "id": "121eb81b-b80c-45ab-8455-64a31c2a603c",
   "metadata": {},
   "outputs": [],
   "source": [
    "class Marsupial:\n",
    "    def __init__(self):\n",
    "        self.pouch = []\n",
    "\n",
    "    def put_in_pouch(self, item):\n",
    "        self.pouch.append(item)\n",
    "\n",
    "    def pouch_contents(self):\n",
    "        return self.pouch\n",
    "\n",
    "\n",
    "class Kangaroo(Marsupial):\n",
    "    def __init__(self, x, y):\n",
    "        super().__init__()\n",
    "        self.x = x\n",
    "        self.y = y\n",
    "\n",
    "    def jump(self, dx, dy):\n",
    "        self.x += dx\n",
    "        self.y += dy\n",
    "\n",
    "    def __str__(self):\n",
    "        return f\"I am a Kangaroo located at coordinates ({self.x}, {self.y})\""
   ]
  },
  {
   "cell_type": "code",
   "execution_count": 15,
   "id": "9383297a-7ba0-4a09-a2ab-f7b8ab9e2557",
   "metadata": {},
   "outputs": [
    {
     "name": "stdout",
     "output_type": "stream",
     "text": [
      "I am a Kangaroo located at coordinates (0, 0)\n"
     ]
    }
   ],
   "source": [
    "k = Kangaroo(0, 0)\n",
    "print(k) "
   ]
  },
  {
   "cell_type": "code",
   "execution_count": 16,
   "id": "469ad9d0-de32-4e34-acde-77e03fe4e1d2",
   "metadata": {},
   "outputs": [
    {
     "data": {
      "text/plain": [
       "['doll', 'firetruck', 'kitten']"
      ]
     },
     "execution_count": 16,
     "metadata": {},
     "output_type": "execute_result"
    }
   ],
   "source": [
    "k.put_in_pouch('doll')\n",
    "k.put_in_pouch('firetruck')\n",
    "k.put_in_pouch('kitten')\n",
    "k.pouch_contents()"
   ]
  },
  {
   "cell_type": "code",
   "execution_count": 17,
   "id": "a8500902-0b05-4864-a5e6-d95e7a3df476",
   "metadata": {},
   "outputs": [
    {
     "name": "stdout",
     "output_type": "stream",
     "text": [
      "I am a Kangaroo located at coordinates (3, 0)\n"
     ]
    }
   ],
   "source": [
    "k.jump(1,0)\n",
    "k.jump(1,0)\n",
    "k.jump(1,0)\n",
    "print(k) "
   ]
  },
  {
   "cell_type": "markdown",
   "id": "c737e114-d2e1-4fe3-bb31-966c2ff17d20",
   "metadata": {},
   "source": [
    "<b>Question 4<b>"
   ]
  },
  {
   "cell_type": "raw",
   "id": "1add8b75-c310-4967-bac6-6a390d889ee9",
   "metadata": {},
   "source": [
    "Write function collatz() that takes a positive integer x as input and prints the \n",
    "Collatz sequence starting at x. A Collatz sequence is obtained by repeatedly applying \n",
    "this rule to the previous number x in the sequence:\n",
    "x = {\n",
    "𝑥/2 𝑖𝑓 𝑥 𝑖𝑠 𝑒𝑣𝑒𝑛\n",
    "3𝑥 + 1 𝑖𝑓 𝑥 𝑖𝑠 𝑜𝑑𝑑\n",
    "Your function should stop when the sequence gets to number 1. Your \n",
    "implementation must be recursive, without any loops.\n"
   ]
  },
  {
   "cell_type": "code",
   "execution_count": 20,
   "id": "dddacead-3c6b-4004-8317-bfed2b456732",
   "metadata": {},
   "outputs": [],
   "source": [
    "def collatz(number):\n",
    "    print(number , end=' ')\n",
    "    if number == 1 :\n",
    "        return\n",
    "    elif number % 2 == 0 :\n",
    "        collatz(number // 2)\n",
    "    else:\n",
    "        collatz(3 * number + 1)"
   ]
  },
  {
   "cell_type": "code",
   "execution_count": 21,
   "id": "391b3244-b8b3-4ad4-abf3-aa21d699327d",
   "metadata": {},
   "outputs": [
    {
     "name": "stdout",
     "output_type": "stream",
     "text": [
      "1 "
     ]
    }
   ],
   "source": [
    "collatz(1)"
   ]
  },
  {
   "cell_type": "code",
   "execution_count": 22,
   "id": "3b78d909-e341-45ad-99c9-0a237775286b",
   "metadata": {},
   "outputs": [
    {
     "name": "stdout",
     "output_type": "stream",
     "text": [
      "10 5 16 8 4 2 1 "
     ]
    }
   ],
   "source": [
    "collatz(10)"
   ]
  },
  {
   "cell_type": "markdown",
   "id": "7b372d16-ae84-46b1-92fa-0085680c07c8",
   "metadata": {},
   "source": [
    "<b>Question 5<b>"
   ]
  },
  {
   "cell_type": "raw",
   "id": "2d3b932e-caad-45c3-9f0e-6fa490c06176",
   "metadata": {},
   "source": [
    "Write a recursive method binary() that takes a non-negative \n",
    "integer n and prints the binary representation of integer n."
   ]
  },
  {
   "cell_type": "code",
   "execution_count": 23,
   "id": "cc5e7c4c-dded-4a42-b7d4-a81f3a0a32c7",
   "metadata": {},
   "outputs": [],
   "source": [
    "def binary(number):\n",
    "    if number > 1:\n",
    "        binary(number // 2)\n",
    "    print(number % 2 , end = ' ')"
   ]
  },
  {
   "cell_type": "code",
   "execution_count": 24,
   "id": "ccddf8b1-4e2e-446c-9015-7fb93ee0faa2",
   "metadata": {},
   "outputs": [
    {
     "name": "stdout",
     "output_type": "stream",
     "text": [
      "0 "
     ]
    }
   ],
   "source": [
    "binary(0)"
   ]
  },
  {
   "cell_type": "code",
   "execution_count": 25,
   "id": "f9f5cd2d-2715-42a2-b3f4-193d6f77cb9e",
   "metadata": {},
   "outputs": [
    {
     "name": "stdout",
     "output_type": "stream",
     "text": [
      "1 "
     ]
    }
   ],
   "source": [
    "binary(1)"
   ]
  },
  {
   "cell_type": "code",
   "execution_count": 26,
   "id": "5a552dbc-a9e8-491d-a808-3c699304342e",
   "metadata": {},
   "outputs": [
    {
     "name": "stdout",
     "output_type": "stream",
     "text": [
      "1 1 "
     ]
    }
   ],
   "source": [
    "binary(3)"
   ]
  },
  {
   "cell_type": "code",
   "execution_count": 27,
   "id": "eb26686d-42e8-46fe-b228-e9c4d5389532",
   "metadata": {},
   "outputs": [
    {
     "name": "stdout",
     "output_type": "stream",
     "text": [
      "1 0 0 1 "
     ]
    }
   ],
   "source": [
    "binary(9)"
   ]
  },
  {
   "cell_type": "markdown",
   "id": "30be0640-69c6-4b91-9b6b-a3621444ce01",
   "metadata": {},
   "source": [
    "<b>Question 6<b>"
   ]
  },
  {
   "cell_type": "raw",
   "id": "2210541f-a5ad-4d2e-9505-760959cdbbdd",
   "metadata": {},
   "source": [
    "Implement a class named HeadingParser that can be used to parse an HTML \n",
    "document, and retrieve and print all the headings in the document. You should \n",
    "implement your class as a subclass of HTMLParser, defined in Standard Library \n",
    "module html.parser. When fed a string containing HTML code, your class should \n",
    "print the headings, one per line and in the order in which they appear in the \n",
    "document. Each heading should be indented as follows: an h1 heading should have\n",
    "indentation 0, and h2 heading should have indentation 1, etc. Test your \n",
    "implementation using w3c.html."
   ]
  },
  {
   "cell_type": "code",
   "execution_count": 28,
   "id": "5b3a9d82-28a2-4d81-b112-ae880729457e",
   "metadata": {},
   "outputs": [],
   "source": [
    "from html.parser import HTMLParser\n",
    "\n",
    "class HeadingParser(HTMLParser):\n",
    "    def __init__(self):\n",
    "        super().__init__()\n",
    "        self.headings = []\n",
    "\n",
    "    def handle_starttag(self, tag, attrs):\n",
    "        if tag[0] == 'h' and '0' <= tag[1] <= '9':\n",
    "            self.headings.append(int(tag[1]))\n",
    "            \n",
    "\n",
    "    def handle_data(self, data):\n",
    "        if self.headings:\n",
    "            level = self.headings[-1] \n",
    "            indent = ' ' * (level - 1) \n",
    "            print(f\"{indent}{data}\")  \n",
    "            self.headings.pop()"
   ]
  },
  {
   "cell_type": "code",
   "execution_count": 29,
   "id": "00572889-d040-4d4e-9d9b-2dfb507dd8c3",
   "metadata": {},
   "outputs": [],
   "source": [
    "infile = open('w3c.txt')"
   ]
  },
  {
   "cell_type": "code",
   "execution_count": 30,
   "id": "2b6dabba-c17b-4d08-90af-633abf258e54",
   "metadata": {},
   "outputs": [],
   "source": [
    "content = infile.read()\n",
    "infile.close()"
   ]
  },
  {
   "cell_type": "code",
   "execution_count": 31,
   "id": "8f4064e7-b792-496e-bf57-c9c151bb9137",
   "metadata": {},
   "outputs": [
    {
     "name": "stdout",
     "output_type": "stream",
     "text": [
      "W3C Mission\n",
      " Principles\n"
     ]
    }
   ],
   "source": [
    "hp = HeadingParser()\n",
    "hp.feed(content)"
   ]
  },
  {
   "cell_type": "markdown",
   "id": "225e5125-8e85-42be-b546-0e6b9e694910",
   "metadata": {},
   "source": [
    "<b>Question 7<b>"
   ]
  },
  {
   "cell_type": "raw",
   "id": "2854a8f5-a0c6-4297-8639-64c315a0bdde",
   "metadata": {},
   "source": [
    "Implement recursive function webdir() that takes as input: a URL (as a string) and \n",
    "non-negative integers depth and indent. Your function should visit every web \n",
    "page reachable from the starting URL web page in depth clicks or less, and print \n",
    "each web page's URL. As shown below, indentation, specified by indent, should \n",
    "be used to indicate the depth of a URL"
   ]
  },
  {
   "cell_type": "code",
   "execution_count": 32,
   "id": "673b83c2-3604-4d3c-be65-464330fdef3a",
   "metadata": {},
   "outputs": [],
   "source": [
    "from urllib.parse import urljoin\n",
    "from urllib.request import urlopen\n",
    "from html.parser import HTMLParser\n",
    "\n",
    "class Collector(HTMLParser):\n",
    "    def __init__(self, url): \n",
    "        HTMLParser.__init__(self)\n",
    "        self.url = url\n",
    "        self.links = []\n",
    "\n",
    "    def handle_starttag(self, tag, attrs):\n",
    "        if tag == 'a':\n",
    "            for attr in attrs:\n",
    "                if attr[0] == 'href':\n",
    "                    # construct absolute URL\n",
    "                    absolute = urljoin(self.url, attr[1])\n",
    "                    if absolute[:4] == 'http':\n",
    "                        self.links.append(absolute)\n",
    "                        \n",
    "    def getLinks(self): \n",
    "        return self.links"
   ]
  },
  {
   "cell_type": "code",
   "execution_count": 33,
   "id": "9580f414-faff-4a81-a9fe-c2065ea13829",
   "metadata": {},
   "outputs": [],
   "source": [
    "def webdir(url, depth, indent):\n",
    "        depth_value = int(depth)\n",
    "        indent_value = int(indent)\n",
    "        \n",
    "        if depth_value < 0 or indent_value < 0:      \n",
    "            raise ValueError\n",
    "            \n",
    "        resource = urlopen(url)\n",
    "        content = resource.read().decode()\n",
    "        collector = Collector(url)\n",
    "        collector.feed(content)\n",
    "        links = collector.getLinks()                \n",
    "\n",
    "        if indent_value == 0:\n",
    "            print('{}'.format(url))\n",
    "\n",
    "        indent_value += 4\n",
    "        depth_value = depth_value-1\n",
    "        \n",
    "        if depth_value >= 0:\n",
    "            for link in links:                       \n",
    "                print('{}{}'.format(indent_value*' ', link), end = '\\n')\n",
    "                if (depth_value) > 0: \n",
    "                    webdir(link, depth_value, indent_value)          "
   ]
  },
  {
   "cell_type": "code",
   "execution_count": 34,
   "id": "78c3df37-73c0-48ba-b061-a09b869433ea",
   "metadata": {},
   "outputs": [
    {
     "name": "stdout",
     "output_type": "stream",
     "text": [
      "http://reed.cs.depaul.edu/lperkovic/test1.html\n",
      "    http://reed.cs.depaul.edu/lperkovic/test2.html\n",
      "        http://reed.cs.depaul.edu/lperkovic/test4.html\n",
      "    http://reed.cs.depaul.edu/lperkovic/test3.html\n",
      "        http://reed.cs.depaul.edu/lperkovic/test4.html\n"
     ]
    }
   ],
   "source": [
    "webdir('http://reed.cs.depaul.edu/lperkovic/test1.html', 2, 0)"
   ]
  },
  {
   "cell_type": "markdown",
   "id": "22c2a848-e7aa-4a53-840c-decdecfdcae2",
   "metadata": {},
   "source": [
    "<b>Question - 8 <b>"
   ]
  },
  {
   "cell_type": "raw",
   "id": "690ba4e5-2dd9-451b-a74e-96d51c44fdc9",
   "metadata": {},
   "source": [
    "Write SQL queries on the below database table that return: "
   ]
  },
  {
   "cell_type": "code",
   "execution_count": 35,
   "id": "3c06dc66-f302-4116-a3e9-eaad1802cc65",
   "metadata": {},
   "outputs": [],
   "source": [
    "import sqlite3"
   ]
  },
  {
   "cell_type": "code",
   "execution_count": 42,
   "id": "0a45c63e-5c93-4786-baf6-b839ca2c280d",
   "metadata": {},
   "outputs": [],
   "source": [
    "weather_data = [\n",
    "    (\"Mumbai\", \"India\", \"Winter\", 24.8, 5.9),\n",
    "    (\"Mumbai\", \"India\", \"Spring\", 28.4, 16.2),\n",
    "    (\"Mumbai\", \"India\", \"Summer\", 27.9, 1549.4),\n",
    "    (\"Mumbai\", \"India\", \"Fall\", 27.6, 346.0),\n",
    "    (\"London\", \"United Kingdom\", \"Winter\", 4.2, 207.7),\n",
    "    (\"London\", \"United Kingdom\", \"Spring\", 8.3, 169.6),\n",
    "    (\"London\", \"United Kingdom\", \"Summer\", 15.7, 157.0),\n",
    "    (\"London\", \"United Kingdom\", \"Fall\", 10.4, 218.5),\n",
    "    (\"Cairo\", \"Egypt\", \"Winter\", 13.6, 16.5),\n",
    "    (\"Cairo\", \"Egypt\", \"Spring\", 20.7, 6.5),\n",
    "    (\"Cairo\", \"Egypt\", \"Summer\", 27.7, 0.1),\n",
    "    (\"Cairo\", \"Egypt\", \"Fall\", 22.2, 4.5)\n",
    "]\n",
    "\n",
    "def database_setup():\n",
    "    conn = sqlite3.connect('weather_database.db')\n",
    "    cursor = conn.cursor()\n",
    "    cursor.execute(\"DROP TABLE IF EXISTS weather_table\")\n",
    "\n",
    "    cursor.execute(\"\"\"\n",
    "    CREATE TABLE IF NOT EXISTS weather_table (\n",
    "        city TEXT,\n",
    "        country TEXT,\n",
    "        season TEXT,\n",
    "        temperature REAL,\n",
    "        rainfall REAL\n",
    "    )\n",
    "\"\"\")\n",
    "    cursor.executemany(\"\"\"\n",
    "        INSERT INTO weather_table (City, Country, Season, Temperature, Rainfall)\n",
    "        VALUES (?,?,?,?,?)\n",
    "    \"\"\", weather_data)    \n",
    "    conn.commit()\n",
    "    conn.close()\n",
    "    \n",
    "database_setup()"
   ]
  },
  {
   "cell_type": "code",
   "execution_count": 43,
   "id": "f130fe2b-d5f5-4137-b2a0-534e8193b38d",
   "metadata": {},
   "outputs": [],
   "source": [
    "conn = sqlite3.connect('weather_database.db')\n",
    "cursor = conn.cursor()"
   ]
  },
  {
   "cell_type": "code",
   "execution_count": 44,
   "id": "90f6565e-7555-4665-9b72-b2d19c4d20fe",
   "metadata": {},
   "outputs": [
    {
     "data": {
      "text/plain": [
       "[('Mumbai', 'India', 'Winter', 24.8, 5.9),\n",
       " ('Mumbai', 'India', 'Spring', 28.4, 16.2),\n",
       " ('Mumbai', 'India', 'Summer', 27.9, 1549.4),\n",
       " ('Mumbai', 'India', 'Fall', 27.6, 346.0),\n",
       " ('London', 'United Kingdom', 'Winter', 4.2, 207.7),\n",
       " ('London', 'United Kingdom', 'Spring', 8.3, 169.6),\n",
       " ('London', 'United Kingdom', 'Summer', 15.7, 157.0),\n",
       " ('London', 'United Kingdom', 'Fall', 10.4, 218.5),\n",
       " ('Cairo', 'Egypt', 'Winter', 13.6, 16.5),\n",
       " ('Cairo', 'Egypt', 'Spring', 20.7, 6.5),\n",
       " ('Cairo', 'Egypt', 'Summer', 27.7, 0.1),\n",
       " ('Cairo', 'Egypt', 'Fall', 22.2, 4.5)]"
      ]
     },
     "execution_count": 44,
     "metadata": {},
     "output_type": "execute_result"
    }
   ],
   "source": [
    "cursor.execute('SELECT * FROM weather_table')\n",
    "cursor.fetchall()"
   ]
  },
  {
   "cell_type": "markdown",
   "id": "9c1cd19c-814d-4c2a-954d-2ff6ad7a8d7d",
   "metadata": {},
   "source": [
    "a) All the temperature data."
   ]
  },
  {
   "cell_type": "code",
   "execution_count": 65,
   "id": "1b16165d-ce8c-4172-a4be-5a33c5736090",
   "metadata": {},
   "outputs": [
    {
     "data": {
      "text/plain": [
       "[(24.8,),\n",
       " (28.4,),\n",
       " (27.9,),\n",
       " (27.6,),\n",
       " (4.2,),\n",
       " (8.3,),\n",
       " (15.7,),\n",
       " (10.4,),\n",
       " (13.6,),\n",
       " (20.7,),\n",
       " (27.7,),\n",
       " (22.2,)]"
      ]
     },
     "execution_count": 65,
     "metadata": {},
     "output_type": "execute_result"
    }
   ],
   "source": [
    "cursor.execute('SELECT temperature FROM weather_table')\n",
    "cursor.fetchall()"
   ]
  },
  {
   "cell_type": "markdown",
   "id": "8b69ee7a-db01-4f63-827e-c7437212432c",
   "metadata": {},
   "source": [
    "b) All the cities, but without repetition."
   ]
  },
  {
   "cell_type": "code",
   "execution_count": 67,
   "id": "f10eda26-7763-456d-ba05-91657346edb4",
   "metadata": {},
   "outputs": [
    {
     "data": {
      "text/plain": [
       "[('Mumbai',), ('London',), ('Cairo',)]"
      ]
     },
     "execution_count": 67,
     "metadata": {},
     "output_type": "execute_result"
    }
   ],
   "source": [
    "cursor.execute('SELECT DISTINCT City FROM weather_table')\n",
    "cursor.fetchall()"
   ]
  },
  {
   "cell_type": "markdown",
   "id": "17c3819a-74b2-42b2-a818-f9f2262a85a3",
   "metadata": {},
   "source": [
    "c) All the records for India."
   ]
  },
  {
   "cell_type": "code",
   "execution_count": 72,
   "id": "fa09ddd2-50ba-4343-8b77-c3bbe697e0de",
   "metadata": {},
   "outputs": [
    {
     "data": {
      "text/plain": [
       "[('Mumbai', 'India', 'Winter', 24.8, 5.9),\n",
       " ('Mumbai', 'India', 'Spring', 28.4, 16.2),\n",
       " ('Mumbai', 'India', 'Summer', 27.9, 1549.4),\n",
       " ('Mumbai', 'India', 'Fall', 27.6, 346.0)]"
      ]
     },
     "execution_count": 72,
     "metadata": {},
     "output_type": "execute_result"
    }
   ],
   "source": [
    "cursor.execute(\"SELECT * FROM weather_table WHERE country = 'India'\")\n",
    "cursor.fetchall()"
   ]
  },
  {
   "cell_type": "markdown",
   "id": "b314414c-ca10-4f8d-9e55-6bc3d567e434",
   "metadata": {},
   "source": [
    "d) All the Fall records."
   ]
  },
  {
   "cell_type": "code",
   "execution_count": 73,
   "id": "c36d7fed-444b-4e7b-b449-4557338d4005",
   "metadata": {},
   "outputs": [
    {
     "data": {
      "text/plain": [
       "[('Mumbai', 'India', 'Fall', 27.6, 346.0),\n",
       " ('London', 'United Kingdom', 'Fall', 10.4, 218.5),\n",
       " ('Cairo', 'Egypt', 'Fall', 22.2, 4.5)]"
      ]
     },
     "execution_count": 73,
     "metadata": {},
     "output_type": "execute_result"
    }
   ],
   "source": [
    "cursor.execute(\"SELECT * FROM weather_table WHERE season = 'Fall'\")\n",
    "cursor.fetchall()"
   ]
  },
  {
   "cell_type": "markdown",
   "id": "045da788-8900-4c02-9a05-98aa8f0ac25a",
   "metadata": {},
   "source": [
    "e) The city, country, and season for which the average rainfall is between 200 \n",
    "and 400 millimeters."
   ]
  },
  {
   "cell_type": "code",
   "execution_count": 74,
   "id": "35f00ee6-ed5c-4eef-84f4-8ad8075dcf6c",
   "metadata": {},
   "outputs": [
    {
     "data": {
      "text/plain": [
       "[('Mumbai', 'India', 'Fall'),\n",
       " ('London', 'United Kingdom', 'Winter'),\n",
       " ('London', 'United Kingdom', 'Fall')]"
      ]
     },
     "execution_count": 74,
     "metadata": {},
     "output_type": "execute_result"
    }
   ],
   "source": [
    "cursor.execute(\"SELECT city,country,season FROM weather_table WHERE Rainfall BETWEEN 200 AND 400\")\n",
    "cursor.fetchall()"
   ]
  },
  {
   "cell_type": "markdown",
   "id": "cf0a6cfa-7f52-418a-b432-bed8020f96da",
   "metadata": {},
   "source": [
    "f) The city and country for which the average Fall temperature is above 20 \n",
    "degrees, in increasing temperature order."
   ]
  },
  {
   "cell_type": "code",
   "execution_count": 76,
   "id": "88975960-28c6-46e9-9209-99783036aaaf",
   "metadata": {},
   "outputs": [
    {
     "data": {
      "text/plain": [
       "[('Cairo', 'Egypt'), ('Mumbai', 'India')]"
      ]
     },
     "execution_count": 76,
     "metadata": {},
     "output_type": "execute_result"
    }
   ],
   "source": [
    "cursor.execute(\"SELECT city, country FROM weather_table WHERE season = 'Fall' AND temperature > 20 ORDER BY temperature ASC\")\n",
    "cursor.fetchall()"
   ]
  },
  {
   "cell_type": "markdown",
   "id": "5d9fd273-6847-4c88-b02a-bcde38c621e1",
   "metadata": {},
   "source": [
    "g) The total annual rainfall for Cairo."
   ]
  },
  {
   "cell_type": "code",
   "execution_count": 79,
   "id": "9f451051-104e-46e1-8470-ff920c671de8",
   "metadata": {},
   "outputs": [
    {
     "data": {
      "text/plain": [
       "[(27.6,)]"
      ]
     },
     "execution_count": 79,
     "metadata": {},
     "output_type": "execute_result"
    }
   ],
   "source": [
    "cursor.execute(\"SELECT SUM(rainfall) FROM weather_table WHERE city ='Cairo'\")\n",
    "cursor.fetchall()"
   ]
  },
  {
   "cell_type": "markdown",
   "id": "b923c067-aa0b-426b-bb31-46a559d719a0",
   "metadata": {},
   "source": [
    "h) The total rainfall for each season"
   ]
  },
  {
   "cell_type": "code",
   "execution_count": 81,
   "id": "7f3fcf65-90ed-4c09-9b71-ff6b187e397b",
   "metadata": {},
   "outputs": [
    {
     "data": {
      "text/plain": [
       "[(569.0,), (192.29999999999998,), (1706.5,), (230.1,)]"
      ]
     },
     "execution_count": 81,
     "metadata": {},
     "output_type": "execute_result"
    }
   ],
   "source": [
    "cursor.execute(\"SELECT SUM(rainfall) FROM weather_table GROUP BY season\")\n",
    "cursor.fetchall()"
   ]
  },
  {
   "cell_type": "code",
   "execution_count": 82,
   "id": "b8ceefcd-2a1d-459f-a1f7-6a7adeb80662",
   "metadata": {},
   "outputs": [],
   "source": [
    "conn.close()"
   ]
  },
  {
   "cell_type": "markdown",
   "id": "0f823702-d979-4363-8d92-0169c7c6cce3",
   "metadata": {},
   "source": [
    "<b>Question 9<b>"
   ]
  },
  {
   "cell_type": "raw",
   "id": "c1d30a10-215a-42a6-8973-8afe184781ca",
   "metadata": {},
   "source": [
    "\n",
    ". Suppose list words is defined as follows:\n",
    ">>> words = ['The', 'quick', 'brown', 'fox', 'jumps', 'over', \n",
    "'the', 'lazy', 'dog']\n",
    "Write list comprehension expressions that use list words and generate the following \n",
    "lists:\n",
    "a) ['THE', 'QUICK', 'BROWN', 'FOX', 'JUMPS', 'OVER', 'THE', \n",
    "'LAZY', 'DOG']\n",
    "b) ['the', 'quick', 'brown', 'fox', 'jumps', 'over', 'the', \n",
    "'lazy', 'dog']\n",
    "c) [3, 5, 5, 3, 5, 4, 3, 4, 3] (the list of lengths of words in list \n",
    "words).\n",
    "d) [['THE', 'the', 3], ['QUICK', 'quick', 5], ['BROWN', \n",
    "'brown', 5], ['FOX', 'fox', 3], ['JUMPS', 'jumps', 5], \n",
    "['OVER', 'over', 4], ['THE', 'the', 3], ['LAZY', 'lazy', \n",
    "4], ['DOG', 'dog', 3]] (the list containing a list for every word of list \n",
    "words, where each list contains the word in uppercase and lowercase and the \n",
    "length of the word.)\n",
    "e) ['The', 'quick', 'brown', 'fox', 'jumps', 'over', 'the', \n",
    "'lazy', 'dog'] (the list of words in list words containing 4 or more \n",
    "characters.)"
   ]
  },
  {
   "cell_type": "code",
   "execution_count": 83,
   "id": "017c88a3-c340-46ba-b5c4-8088be2ffada",
   "metadata": {},
   "outputs": [],
   "source": [
    "words = ['The', 'quick', 'brown', 'fox', 'jumps', 'over', \n",
    "'the', 'lazy', 'dog']"
   ]
  },
  {
   "cell_type": "code",
   "execution_count": 84,
   "id": "07a9eef4-79cc-4042-b262-0c9ddef69904",
   "metadata": {},
   "outputs": [
    {
     "data": {
      "text/plain": [
       "['THE', 'QUICK', 'BROWN', 'FOX', 'JUMPS', 'OVER', 'THE', 'LAZY', 'DOG']"
      ]
     },
     "execution_count": 84,
     "metadata": {},
     "output_type": "execute_result"
    }
   ],
   "source": [
    "[word.upper() for word in words]"
   ]
  },
  {
   "cell_type": "code",
   "execution_count": 85,
   "id": "8b602ba8-28ef-497c-b996-fc4d203c88bf",
   "metadata": {},
   "outputs": [
    {
     "data": {
      "text/plain": [
       "['the', 'quick', 'brown', 'fox', 'jumps', 'over', 'the', 'lazy', 'dog']"
      ]
     },
     "execution_count": 85,
     "metadata": {},
     "output_type": "execute_result"
    }
   ],
   "source": [
    "[word.lower() for word in words]"
   ]
  },
  {
   "cell_type": "code",
   "execution_count": 86,
   "id": "e6a85e9c-04e5-428b-aeb6-7c1680c59547",
   "metadata": {},
   "outputs": [
    {
     "data": {
      "text/plain": [
       "[3, 5, 5, 3, 5, 4, 3, 4, 3]"
      ]
     },
     "execution_count": 86,
     "metadata": {},
     "output_type": "execute_result"
    }
   ],
   "source": [
    "[len(word) for word in words]"
   ]
  },
  {
   "cell_type": "code",
   "execution_count": 87,
   "id": "1e577539-2939-497a-af4b-5676379f8e53",
   "metadata": {},
   "outputs": [
    {
     "data": {
      "text/plain": [
       "[['THE', 'the', 3],\n",
       " ['QUICK', 'quick', 5],\n",
       " ['BROWN', 'brown', 5],\n",
       " ['FOX', 'fox', 3],\n",
       " ['JUMPS', 'jumps', 5],\n",
       " ['OVER', 'over', 4],\n",
       " ['THE', 'the', 3],\n",
       " ['LAZY', 'lazy', 4],\n",
       " ['DOG', 'dog', 3]]"
      ]
     },
     "execution_count": 87,
     "metadata": {},
     "output_type": "execute_result"
    }
   ],
   "source": [
    "[[word.upper() , word.lower() , len(word)] for word in words]"
   ]
  },
  {
   "cell_type": "code",
   "execution_count": 89,
   "id": "be20e795-2bc0-4b6a-8964-b76a0b5b767f",
   "metadata": {},
   "outputs": [
    {
     "data": {
      "text/plain": [
       "['quick', 'brown', 'jumps', 'over', 'lazy']"
      ]
     },
     "execution_count": 89,
     "metadata": {},
     "output_type": "execute_result"
    }
   ],
   "source": [
    "[word for word in words if len(word) >= 4]"
   ]
  }
 ],
 "metadata": {
  "kernelspec": {
   "display_name": "Python 3 (ipykernel)",
   "language": "python",
   "name": "python3"
  },
  "language_info": {
   "codemirror_mode": {
    "name": "ipython",
    "version": 3
   },
   "file_extension": ".py",
   "mimetype": "text/x-python",
   "name": "python",
   "nbconvert_exporter": "python",
   "pygments_lexer": "ipython3",
   "version": "3.12.3"
  }
 },
 "nbformat": 4,
 "nbformat_minor": 5
}
